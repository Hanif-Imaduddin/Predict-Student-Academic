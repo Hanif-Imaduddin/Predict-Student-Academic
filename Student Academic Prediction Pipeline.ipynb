{
 "cells": [
  {
   "cell_type": "markdown",
   "id": "7677574d-ea0d-470a-a5b8-255d181c2231",
   "metadata": {},
   "source": [
    "# Student Academic Prediction Pipline\n",
    "Dataset source: https://archive.ics.uci.edu/dataset/697/predict+students+dropout+and+academic+success"
   ]
  },
  {
   "cell_type": "code",
   "execution_count": 1,
   "id": "21b8a2b9-e494-4dca-a17d-90b1c94121c8",
   "metadata": {},
   "outputs": [],
   "source": [
    "import pandas as pd\n",
    "import numpy as np\n",
    "import matplotlib.pyplot as plt\n",
    "import matplotlib_inline.backend_inline\n",
    "matplotlib_inline.backend_inline.set_matplotlib_formats('svg')"
   ]
  },
  {
   "cell_type": "markdown",
   "id": "5e924969-f0d7-46ce-b8d5-25c265cfefc0",
   "metadata": {
    "jp-MarkdownHeadingCollapsed": true
   },
   "source": [
    "## Exploratory Data Analysis (EDA)"
   ]
  },
  {
   "cell_type": "markdown",
   "id": "da3962f6-edcc-4cbd-8b42-76abdd8641aa",
   "metadata": {},
   "source": [
    "### Statistik Deskriptif"
   ]
  },
  {
   "cell_type": "markdown",
   "id": "5dd6d9fe-c0b3-4211-a0b6-a0dc727448e4",
   "metadata": {},
   "source": [
    "### Visualisasi Data"
   ]
  },
  {
   "cell_type": "markdown",
   "id": "106a1b84-b897-4405-9334-60b53abc4b14",
   "metadata": {},
   "source": [
    "### Pengecekan Missing Data"
   ]
  },
  {
   "cell_type": "markdown",
   "id": "b4cb07b9-ba35-4df0-9419-040c890594d4",
   "metadata": {},
   "source": [
    "### Deteksi Outlier"
   ]
  },
  {
   "cell_type": "markdown",
   "id": "4c2281d5-3fa2-4bf3-80e6-e21d24b018ae",
   "metadata": {},
   "source": [
    "### Korelasi Antar Feature"
   ]
  },
  {
   "cell_type": "markdown",
   "id": "5a37ef0d-2e91-49a4-94d3-411358568e63",
   "metadata": {
    "jp-MarkdownHeadingCollapsed": true
   },
   "source": [
    "## Data Preprocessing\n"
   ]
  },
  {
   "cell_type": "markdown",
   "id": "2d49a9d8-bbb3-47f9-b158-34f36cd659ec",
   "metadata": {},
   "source": [
    "### Penanganan Missing Value"
   ]
  },
  {
   "cell_type": "markdown",
   "id": "405589d5-1c4e-4da6-b5df-1f9e88e87823",
   "metadata": {},
   "source": [
    "### Encoding Categorical Variables"
   ]
  },
  {
   "cell_type": "markdown",
   "id": "a7e80d83-701f-4666-aa9a-df55d39589ec",
   "metadata": {},
   "source": [
    "### Normalization/Standardization"
   ]
  },
  {
   "cell_type": "markdown",
   "id": "f502178a-4884-42f8-a284-ea88222031cd",
   "metadata": {},
   "source": [
    "### Spliting Data"
   ]
  },
  {
   "cell_type": "markdown",
   "id": "1e2da07a-014d-4e30-95b9-865246d5806a",
   "metadata": {},
   "source": [
    "## Feature Engineering"
   ]
  },
  {
   "cell_type": "markdown",
   "id": "3f9cb8ca-a4cc-4808-809b-63af5880c3a8",
   "metadata": {},
   "source": [
    "### Pembuatan Feature Baru"
   ]
  },
  {
   "cell_type": "markdown",
   "id": "e8917041-df62-4ada-8b96-79e5b741777a",
   "metadata": {},
   "source": [
    "### Feature Selection"
   ]
  },
  {
   "cell_type": "markdown",
   "id": "c1860336-a972-4e67-8b34-96a99f06ef06",
   "metadata": {},
   "source": [
    "## Model Selection"
   ]
  },
  {
   "cell_type": "markdown",
   "id": "446ec1ae-c38c-4b47-8560-7e93b93188eb",
   "metadata": {
    "jp-MarkdownHeadingCollapsed": true
   },
   "source": [
    "## Training Model"
   ]
  },
  {
   "cell_type": "markdown",
   "id": "f6e52cb2-e0d9-4d73-b0db-56cf46fc2c0b",
   "metadata": {
    "jp-MarkdownHeadingCollapsed": true
   },
   "source": [
    "## Evaluasi Model"
   ]
  },
  {
   "cell_type": "markdown",
   "id": "9515ea26-cdf7-472a-9d9b-c1b46faa5c4e",
   "metadata": {
    "jp-MarkdownHeadingCollapsed": true
   },
   "source": [
    "## Hypterparameter Tuning"
   ]
  },
  {
   "cell_type": "markdown",
   "id": "9bc69e5b-ea64-4b42-8b61-63447e21e6f3",
   "metadata": {
    "jp-MarkdownHeadingCollapsed": true
   },
   "source": [
    "## Testing Model"
   ]
  }
 ],
 "metadata": {
  "kernelspec": {
   "display_name": "Python 3 (ipykernel)",
   "language": "python",
   "name": "python3"
  },
  "language_info": {
   "codemirror_mode": {
    "name": "ipython",
    "version": 3
   },
   "file_extension": ".py",
   "mimetype": "text/x-python",
   "name": "python",
   "nbconvert_exporter": "python",
   "pygments_lexer": "ipython3",
   "version": "3.12.3"
  }
 },
 "nbformat": 4,
 "nbformat_minor": 5
}
